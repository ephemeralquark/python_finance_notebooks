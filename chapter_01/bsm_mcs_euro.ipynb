{
 "cells": [
  {
   "attachments": {},
   "cell_type": "markdown",
   "metadata": {},
   "source": [
    "Black-Scholes-Merton index level at maturity\n",
    "\n",
    "$S_T = S_0 exp ((r - \\frac{1}{2} \\sigma^2)T + \\sigma \\sqrt{T} z)$\n",
    "\n",
    "Monte Carlo estimator for European option\n",
    "\n",
    "$C_0 \\approx e^{-rT}\\frac{1}{I}\\sum h_T(i)$\n"
   ]
  },
  {
   "cell_type": "code",
   "execution_count": 1,
   "metadata": {},
   "outputs": [
    {
     "name": "stdout",
     "output_type": "stream",
     "text": [
      "Intel MKL WARNING: Support of Intel(R) Streaming SIMD Extensions 4.2 (Intel(R) SSE4.2) enabled only processors has been deprecated. Intel oneAPI Math Kernel Library 2025.0 will require Intel(R) Advanced Vector Extensions (Intel(R) AVX) instructions.\n",
      "Intel MKL WARNING: Support of Intel(R) Streaming SIMD Extensions 4.2 (Intel(R) SSE4.2) enabled only processors has been deprecated. Intel oneAPI Math Kernel Library 2025.0 will require Intel(R) Advanced Vector Extensions (Intel(R) AVX) instructions.\n"
     ]
    }
   ],
   "source": [
    "#\n",
    "# Monte Carlo valuation of European call option\n",
    "# in Black-Scholes-Merton model\n",
    "# bsm_mcs_euro.py\n",
    "#\n",
    "import numpy as np"
   ]
  },
  {
   "cell_type": "code",
   "execution_count": 2,
   "metadata": {},
   "outputs": [],
   "source": [
    "# Parameter values\n",
    "S0 = 100.       # initial index level\n",
    "K = 105.        # strik price\n",
    "T = 1.0         # time-to-maturity\n",
    "r = 0.05        # riskless short rate\n",
    "sigma = 0.2     # volatility\n",
    "\n",
    "I = 1000000      # number of simulations"
   ]
  },
  {
   "cell_type": "code",
   "execution_count": 3,
   "metadata": {},
   "outputs": [],
   "source": [
    "# Valuation Algorithm\n",
    "z = np.random.standard_normal(I)    #pseudorandom numbers\n",
    "ST = S0 * np.exp((r - 0.5 * sigma ** 2) * T + sigma * np.sqrt(T) * z)\n",
    "    # index values at maturity\n",
    "hT = np.maximum(ST - K, 0)  # inner values at maturity\n",
    "C0 = np.exp(-r * T) * np.sum(hT) / I # Monte Carlo estimator"
   ]
  },
  {
   "cell_type": "code",
   "execution_count": 4,
   "metadata": {},
   "outputs": [
    {
     "name": "stdout",
     "output_type": "stream",
     "text": [
      "Value of the European Call Option 8.031\n"
     ]
    }
   ],
   "source": [
    "# Result Output\n",
    "print(\"Value of the European Call Option %5.3f\" % C0)"
   ]
  },
  {
   "cell_type": "code",
   "execution_count": 5,
   "metadata": {},
   "outputs": [
    {
     "name": "stdout",
     "output_type": "stream",
     "text": [
      "1000000\n"
     ]
    },
    {
     "data": {
      "text/plain": [
       "array([ 0.04582045, -0.81483541, -0.01589862, ..., -0.0425619 ,\n",
       "        2.02018426, -0.99965911])"
      ]
     },
     "execution_count": 5,
     "metadata": {},
     "output_type": "execute_result"
    }
   ],
   "source": [
    "print(len(z))\n",
    "z"
   ]
  },
  {
   "cell_type": "code",
   "execution_count": 6,
   "metadata": {},
   "outputs": [
    {
     "name": "stdout",
     "output_type": "stream",
     "text": [
      "1000000\n"
     ]
    },
    {
     "data": {
      "text/plain": [
       "array([103.99411145,  87.54939103, 102.71831765, ..., 102.17201413,\n",
       "       154.3475746 ,  84.37223381])"
      ]
     },
     "execution_count": 6,
     "metadata": {},
     "output_type": "execute_result"
    }
   ],
   "source": [
    "print(len(ST))\n",
    "ST"
   ]
  },
  {
   "cell_type": "code",
   "execution_count": 7,
   "metadata": {},
   "outputs": [
    {
     "data": {
      "text/plain": [
       "array([ -1.00588855, -17.45060897,  -2.28168235, ...,  -2.82798587,\n",
       "        49.3475746 , -20.62776619])"
      ]
     },
     "execution_count": 7,
     "metadata": {},
     "output_type": "execute_result"
    }
   ],
   "source": [
    "ST - K"
   ]
  },
  {
   "cell_type": "code",
   "execution_count": null,
   "metadata": {},
   "outputs": [],
   "source": []
  }
 ],
 "metadata": {
  "kernelspec": {
   "display_name": "finance",
   "language": "python",
   "name": "python3"
  },
  "language_info": {
   "codemirror_mode": {
    "name": "ipython",
    "version": 3
   },
   "file_extension": ".py",
   "mimetype": "text/x-python",
   "name": "python",
   "nbconvert_exporter": "python",
   "pygments_lexer": "ipython3",
   "version": "3.11.5"
  },
  "orig_nbformat": 4
 },
 "nbformat": 4,
 "nbformat_minor": 2
}
