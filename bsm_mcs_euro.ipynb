{
 "cells": [
  {
   "attachments": {},
   "cell_type": "markdown",
   "metadata": {},
   "source": [
    "Black-Scholes-Merton index level at maturity\n",
    "\n",
    "$S_T = S_0 exp ((r - \\frac{1}{2} \\sigma^2)T + \\sigma \\sqrt{T} z)$\n",
    "\n",
    "Monte Carlo estimator for European option\n",
    "\n",
    "$C_0 \\approx e^{-rT}\\frac{1}{I}\\sum h_T(i)$\n"
   ]
  },
  {
   "cell_type": "code",
   "execution_count": 5,
   "metadata": {},
   "outputs": [],
   "source": [
    "#\n",
    "# Monte Carlo valuation of European call option\n",
    "# in Black-Scholes-Merton model\n",
    "# bsm_mcs_euro.py\n",
    "#\n",
    "import numpy as np"
   ]
  },
  {
   "cell_type": "code",
   "execution_count": 6,
   "metadata": {},
   "outputs": [],
   "source": [
    "# Parameter values\n",
    "S0 = 100.       # initial index level\n",
    "K = 105.        # strik price\n",
    "T = 1.0         # time-to-maturity\n",
    "r = 0.05        # riskless short rate\n",
    "sigma = 0.2     # volatility\n",
    "\n",
    "I = 1000000      # number of simulations"
   ]
  },
  {
   "cell_type": "code",
   "execution_count": 7,
   "metadata": {},
   "outputs": [],
   "source": [
    "# Valuation Algorithm\n",
    "z = np.random.standard_normal(I)    #pseudorandom numbers\n",
    "ST = S0 * np.exp((r - 0.5 * sigma ** 2) * T + sigma * np.sqrt(T) * z)\n",
    "    # index values at maturity\n",
    "hT = np.maximum(ST - K, 0)  # inner values at maturity\n",
    "C0 = np.exp(-r * T) * np.sum(hT) / I # Monte Carlo estimator"
   ]
  },
  {
   "cell_type": "code",
   "execution_count": 8,
   "metadata": {},
   "outputs": [
    {
     "name": "stdout",
     "output_type": "stream",
     "text": [
      "Value of the European Call Option 8.035\n"
     ]
    }
   ],
   "source": [
    "# Result Output\n",
    "print(\"Value of the European Call Option %5.3f\" % C0)"
   ]
  },
  {
   "cell_type": "code",
   "execution_count": null,
   "metadata": {},
   "outputs": [],
   "source": []
  }
 ],
 "metadata": {
  "kernelspec": {
   "display_name": "finance",
   "language": "python",
   "name": "python3"
  },
  "language_info": {
   "codemirror_mode": {
    "name": "ipython",
    "version": 3
   },
   "file_extension": ".py",
   "mimetype": "text/x-python",
   "name": "python",
   "nbconvert_exporter": "python",
   "pygments_lexer": "ipython3",
   "version": "3.11.5"
  },
  "orig_nbformat": 4
 },
 "nbformat": 4,
 "nbformat_minor": 2
}
